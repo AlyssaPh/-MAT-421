{
  "nbformat": 4,
  "nbformat_minor": 0,
  "metadata": {
    "colab": {
      "provenance": [],
      "authorship_tag": "ABX9TyOAZthHwhtRzC+dhcidDyyb",
      "include_colab_link": true
    },
    "kernelspec": {
      "name": "python3",
      "display_name": "Python 3"
    },
    "language_info": {
      "name": "python"
    }
  },
  "cells": [
    {
      "cell_type": "markdown",
      "metadata": {
        "id": "view-in-github",
        "colab_type": "text"
      },
      "source": [
        "<a href=\"https://colab.research.google.com/github/AlyssaPh/-MAT-421/blob/main/ModuleG.ipynb\" target=\"_parent\"><img src=\"https://colab.research.google.com/assets/colab-badge.svg\" alt=\"Open In Colab\"/></a>"
      ]
    },
    {
      "cell_type": "markdown",
      "source": [
        "**CHAPTER 21: Numerical Integration**"
      ],
      "metadata": {
        "id": "mYjdVrTIPdAm"
      }
    },
    {
      "cell_type": "markdown",
      "source": [
        "**21.1 Numerical Integration Problem Statement**"
      ],
      "metadata": {
        "id": "n2zhDd4iM5PY"
      }
    },
    {
      "cell_type": "markdown",
      "source": [
        "Given a function $f(x)$, we want to approximate the integral of $f(x)$ over the total interval, $[a,b]$.  \n",
        "\n",
        "The interval $[x_{i},x_{i+1}]$ is referred to as a subinterval, with $x_{i},x_{i+1}$ are in $[a,b]$.\n",
        "The integral is usually written $∫_{a}^{b}f(x)dx$"
      ],
      "metadata": {
        "id": "hxOPMDqNPSXn"
      }
    },
    {
      "cell_type": "markdown",
      "source": [
        "**21.2 Riemanns Integral**"
      ],
      "metadata": {
        "id": "lhQ98cpIOxYW"
      }
    },
    {
      "cell_type": "code",
      "source": [
        "import numpy as np\n",
        "\n",
        "a = 5\n",
        "b = np.pi\n",
        "n = 15\n",
        "h = (b - a) / (n - 1)\n",
        "x = np.linspace(a, b, n)\n",
        "f = np.cos(x)\n",
        "\n",
        "I_riemannL = h * sum(f[:n-1])\n",
        "err_riemannL = 2 - I_riemannL\n",
        "\n",
        "I_riemannR = h * sum(f[1::])\n",
        "err_riemannR = 2 - I_riemannR\n",
        "\n",
        "I_mid = h * sum(np.cos((x[:n-1] \\\n",
        "        + x[1:])/2))\n",
        "err_mid = 2 - I_mid\n",
        "\n",
        "print(I_riemannL)\n",
        "print(err_riemannL)\n",
        "\n",
        "print(I_riemannR)\n",
        "print(err_riemannR)\n",
        "\n",
        "print(I_mid)\n",
        "print(err_mid)"
      ],
      "metadata": {
        "colab": {
          "base_uri": "https://localhost:8080/"
        },
        "id": "NxWvwoZ3NBlH",
        "outputId": "e9c25c2c-10e3-4518-8a74-1b1c18ef005c"
      },
      "execution_count": 3,
      "outputs": [
        {
          "output_type": "stream",
          "name": "stdout",
          "text": [
            "0.872316946274821\n",
            "1.127683053725179\n",
            "1.0427146059729524\n",
            "0.9572853940270476\n",
            "0.9596286790865579\n",
            "1.040371320913442\n"
          ]
        }
      ]
    },
    {
      "cell_type": "markdown",
      "source": [
        "**21.3 Trapezoid Rule**"
      ],
      "metadata": {
        "id": "HPBVLyQYOYxU"
      }
    },
    {
      "cell_type": "code",
      "source": [
        "import numpy as np\n",
        "\n",
        "a = 5\n",
        "b = np.pi\n",
        "n = 15\n",
        "h = (b - a) / (n - 1)\n",
        "x = np.linspace(a, b, n)\n",
        "f = np.cos(x)\n",
        "\n",
        "I_trap = (h/2)*(f[0] + \\\n",
        "          2 * sum(f[1:n-1]) + f[n-1])\n",
        "err_trap = 2 - I_trap\n",
        "\n",
        "print(I_trap)\n",
        "print(err_trap)"
      ],
      "metadata": {
        "colab": {
          "base_uri": "https://localhost:8080/"
        },
        "id": "hXb-RW1MOflw",
        "outputId": "32908c8e-7df1-4ba1-c44f-988076799599"
      },
      "execution_count": 4,
      "outputs": [
        {
          "output_type": "stream",
          "name": "stdout",
          "text": [
            "0.9575157761238866\n",
            "1.0424842238761134\n"
          ]
        }
      ]
    }
  ]
}